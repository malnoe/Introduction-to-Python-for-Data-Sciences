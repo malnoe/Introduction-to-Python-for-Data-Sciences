{
 "cells": [
  {
   "cell_type": "markdown",
   "id": "d6513e49-b1cc-4604-b563-cf8b1809fc6a",
   "metadata": {},
   "source": [
    "<table>\n",
    "<tr>\n",
    "<td width=15%><img src=\"../../img/UGA.png\"></img></td>\n",
    "<td><center><h1>Project n°1</h1></center></td>\n",
    "<td width=15%><a href=\"https://team.inria.fr/tripop/team-members/\" style=\"font-size: 16px; font-weight: bold\">Florian Vincent</a> </td>\n",
    "</tr>\n",
    "</table>"
   ]
  },
  {
   "cell_type": "markdown",
   "id": "ebed333f-332c-4de9-9ee5-ef2e980d49c5",
   "metadata": {},
   "source": [
    "# Basic numerical methods for convex optimization\n",
    "\n",
    "We will focus on this project in one very interesting problem that arises in multiple topics in data sciences: convex optimization and numerical methods.\n",
    "\n",
    "This project is adapted for students who wish to strengthen their understanding of the numpy library, and who prefer more math-leaning questions."
   ]
  },
  {
   "cell_type": "markdown",
   "id": "8d0c8560-e149-4bc0-90db-764ae510c90c",
   "metadata": {},
   "source": [
    "## Overlook on the topic\n",
    "\n",
    "The main question is to minimize or maximize a given scalar function of one or multiple parameters.\n",
    "In litterature, minimization problems are studied very frequently so we shall have a closer look at their mathematical expression:\n",
    "\n",
    "Let a parameter $\\theta$ represent the parameters of the function we wish to minimize, living in its space denoted $\\Theta$. This function is usually called a \"loss function\", so we denote it by:\n",
    "$$\n",
    "\\begin{array}{rlcl}L:&\\Theta\\subseteq\\mathbb{R}^n &\\to &\\mathbb{R}\\\\ &\\theta &\\to & L(\\theta)\\end{array}\n",
    "$$\n",
    "Thus the problem writes:\n",
    "$$\n",
    "\\min_{\\theta\\in\\Theta}L(\\theta)\n",
    "$$\n",
    "\n",
    "Some mathematical background teaches us that this minimization problem may have either one, multiple, or no feasible solutions.\n",
    "\n",
    "__Examples__:\n",
    "* For $L(\\theta):=\\theta$ with $\\theta\\in\\mathbb{R}$ we have no feasible solution.\n",
    "* For $L(\\theta):=\\theta^2-\\theta$ with $\\theta\\in\\mathbb{R}$ we have one feasible optimal solution for $\\hat{\\theta}=\\frac{1}{2}$\n",
    "* For $L(\\theta):=3\\cos(2\\pi\\theta)+2$ with $\\theta\\in\\mathbb{R}$ we have an infinity of optimal solutions $\\hat{\\theta}_k=k+\\frac{1}{2}$ $\\forall k\\in\\mathbb{Z}$.\n",
    "The main point is that when $L$ is strictly convex their must be at most one solution to the problem, which simplifies tremendously the research of $\\theta$.\n",
    "\n",
    "---\n",
    "\n",
    "Multiple methods have been invented to solve the problem described earlier, depending on the conditions of optimization of the function as well as its shape and regularity.\n",
    "We will study four methods in increasing order of difficulty of implementation:\n",
    "* The classical \"gradient descent\" method. It is very general and easy to implement.\n",
    "* The second order methods like the Newton algorithm, and its most well known cousin the BFGS method.\n",
    "* The stochastic optimisation methods, and its most trending one in machine learning: the Adam algorithm.\n",
    "\n",
    "Everything studied here is related to differentiable scalar-valued functions.\n",
    "\n",
    "## Applications of this topic\n",
    "\n",
    "What you will learn about in this project is the foundation of multiple domains of data sciences:\n",
    "* Most obvious of all: machne learning in which the Adam algorithm is a center piece.\n",
    "* Operational research in which the constraints $\\Theta$ play an extra important role.\n",
    "* Finance which relies on stochastic problems very often formulated as optimisation problems.\n",
    "* Physics in which computation of minimal action can lead to surprisingly difficult optimisation formulations.\n",
    "* Statistics questions like the research of _Maximum a-posteriori_ (MAP) estimators, or _Maximum Likelihood Estimation_ (MLE)"
   ]
  },
  {
   "cell_type": "markdown",
   "id": "72146a5b-0d85-4856-80cb-f84cdb1107a1",
   "metadata": {},
   "source": [
    "## Code and objectives\n",
    "\n",
    "This project needs to be done using python, and the numpy library as much as possible."
   ]
  },
  {
   "cell_type": "code",
   "execution_count": 1,
   "id": "a255ecef-53f2-4eac-800d-122deda81c9a",
   "metadata": {},
   "outputs": [],
   "source": [
    "import numpy as np"
   ]
  },
  {
   "cell_type": "markdown",
   "id": "b044a78d-8d62-4856-b1fd-17913c2d73a9",
   "metadata": {},
   "source": [
    "You will answer the questions by writting code and writing markdown comments to help your teaching staff see if every notion is well understood.\n",
    "Please note that the Jupyter notebook is only useful to __prototype the code__, not to write it all.\n",
    "Your report should contain this notebook, with a minimal amount of code added, and several python files containing the functions and classes you will make, that you can import in the notebook.\n",
    "Writting `class` and `def` statements in this notebook should be avoided as much as possible.\n",
    "\n",
    "This project is formulated such that you can use object-oriented programming (OOP) to answer the questions.\n",
    "This way, every question leads to the creation of a class that needs to be instanciated and properly commented."
   ]
  },
  {
   "cell_type": "markdown",
   "id": "e3f494d0-8918-439f-936f-aa91b856a06d",
   "metadata": {},
   "source": [
    "We will optimize at each exercise a function deriving by inheritance from the following class:"
   ]
  },
  {
   "cell_type": "code",
   "execution_count": 2,
   "id": "d4d793af-cee1-4121-b1e2-c466cfcd9253",
   "metadata": {},
   "outputs": [],
   "source": [
    "from baseloss import LossFunction"
   ]
  },
  {
   "cell_type": "markdown",
   "id": "f27c3b66-b2dd-48fa-a335-752e5dc4e80a",
   "metadata": {},
   "source": [
    "The optimisation procedures that you will write should inherit as well from its own base class:"
   ]
  },
  {
   "cell_type": "code",
   "execution_count": 3,
   "id": "9ec72cb7-4122-4def-8d48-b03e5ea51543",
   "metadata": {},
   "outputs": [],
   "source": [
    "from baseoptimizer import Optimizer"
   ]
  },
  {
   "cell_type": "markdown",
   "id": "ff3bcfa8-6931-4c4e-b571-919bdceaa9c1",
   "metadata": {},
   "source": [
    "### Exercise 1"
   ]
  },
  {
   "cell_type": "markdown",
   "id": "ab232c38-b3ae-4e82-8e82-beafa9c44768",
   "metadata": {},
   "source": [
    "The main algorithm for the optimisation of convex functions is called gradient descent.\n",
    "Its main idea is to use the taylor expansion of the function at a starting point and to try and find a \"local\" best guess for the next one.\n",
    "Say one is evaluating the loss at the point $\\theta_0$ and wishes to find locally (and at order 1) the best theta to go to around them, they may write for all directions $\\vec{p}$ somewhat keeping us close to $\\theta_0$:\n",
    "$$\n",
    "L(\\theta_0+\\vec{p}) = L(\\theta_0) + \\left<\\vec{p} | \\nabla L(\\theta_0)\\right> + \\mathcal{O}(\\|\\vec{p}\\|^2)\n",
    "$$\n",
    "(writting $<\\cdot |\\cdot>$ the scalar product between two vectors and $\\|\\cdot\\|$ the euclidian norm, and $\\nabla$ the vector containing the partial derivatives of $L$ with respect to its parameters).\n",
    "\n",
    "Minimizing locally (i.e. forgetting purposefuly about the remainder $\\mathcal{O}(\\|\\vec{p}\\|^2)$), we can make a clever choice of $\\vec{p}$:\n",
    "$$\n",
    "p:=-\\eta\\nabla L(\\theta_0)\n",
    "$$\n",
    "with $\\eta$ very small against $\\nabla L(\\theta_0)$. This way the expansion writes:\n",
    "$$\n",
    "L(\\theta_0-\\eta\\nabla L(\\theta_0)) = L(\\theta_0) + \\left<-\\eta\\nabla L(\\theta_0) | \\nabla L(\\theta_0)\\right> + \\mathcal{O}(\\|\\eta\\nabla L(\\theta_0)\\|^2) = L(\\theta_0) - \\eta\\|\\nabla L(\\theta_0)\\|^2+\\|\\nabla L(\\theta_0)\\|^2\\mathcal{O}(\\eta^2)\n",
    "$$\n",
    "If $\\eta$ is small enough, $\\mathcal{O}(\\eta^2)$ should be significantly smaller than $\\eta$, hence $(\\eta-\\mathcal{O}(\\eta^2))\\|\\nabla L(\\theta_0)\\|^2$ should be positive.\n",
    "We conclude that we have performed a descent since $L(\\theta_0-\\eta\\nabla L(\\theta_0)) < L(\\theta_0)$ !\n",
    "This yields the algorithm of the gradient descent :\n",
    "```\n",
    "Start at theta := theta_0\n",
    "While no convergence is observed:\n",
    "    set theta_new := theta - eta * gradient_oracle(L, theta)\n",
    "    forget theta, set theta := theta_new\n",
    "```"
   ]
  },
  {
   "cell_type": "markdown",
   "id": "77ac5e45-6538-4eca-ac32-36dfa1d6202c",
   "metadata": {},
   "source": [
    "**Implement gradient descent in a class called `GradientDescent`, performing on its internal parameter $\\theta$ the update described above for the function `function1` (suppose it is a convex function) starting at $\\theta_0:=\\vec{0}$. Study different values of $\\eta$, comment**. "
   ]
  },
  {
   "cell_type": "code",
   "execution_count": 4,
   "id": "991f2839-e521-457b-8e9b-c53b2acde326",
   "metadata": {},
   "outputs": [],
   "source": [
    "from utils import make_random_func1, make_random_func2\n",
    "function1 = make_random_func1(100)"
   ]
  },
  {
   "cell_type": "code",
   "execution_count": 5,
   "id": "c891cb8c-4c3f-4b12-986b-fdb5ee111e8d",
   "metadata": {},
   "outputs": [
    {
     "name": "stdout",
     "output_type": "stream",
     "text": [
      "Gradient :\n",
      "Nombre d'étapes : 452\n",
      "[-0.35556479  0.74222399 -1.38426847 -0.41095392  0.98670715  1.33767016\n",
      "  1.16697476  1.96830472  0.00351931 -1.41452966  0.44557882 -0.76682952\n",
      "  0.58658591 -0.66132456  0.76982214  0.54207504  2.46345334 -0.08589368\n",
      " -0.43833259 -1.00847097  0.88441393 -1.23278786 -0.0748557   1.47600016\n",
      "  1.71388371  1.57743739  1.38301296 -0.25060377 -0.49474259 -0.10679874\n",
      " -0.52343939 -0.64858598 -1.16033979  0.04179189  0.27738176 -0.42444167\n",
      " -2.15657349  0.20847712 -0.46368916  0.28743003 -0.22900999 -1.07335848\n",
      "  1.47696204 -0.7727102  -1.20616663 -0.48594402 -1.51204181 -0.20945391\n",
      "  0.67374294  0.24261503  0.66908291 -0.26994782 -1.09924975  0.88883957\n",
      " -0.26622237  0.35562576 -0.44539411 -0.69124171  0.96174079  0.0367601\n",
      " -0.46100339  0.58273683 -0.20644315  0.45984242  0.44276815  0.62001467\n",
      " -0.99281911  0.83445066  1.49402529  1.1211777  -1.41835396 -2.46820879\n",
      " -1.60741468 -0.25664739 -0.03743844  0.37896867 -0.43334615  1.39825785\n",
      " -0.01826525  0.79100429  0.06277106 -0.0966747   1.21157214  0.21466515\n",
      " -0.62719663 -0.39191811 -0.80747708 -0.10804449  0.73608519 -0.21012936\n",
      " -0.14304288  0.44206687 -0.14417109 -1.61059475 -0.7084499  -0.19205984\n",
      " -0.21235363  0.62632145  1.42842989 -1.19564908]\n"
     ]
    }
   ],
   "source": [
    "from projet1 import GradientDescent\n",
    "n = 100\n",
    "print(\"Gradient :\")\n",
    "res = GradientDescent(eps = 0.001, theta0 = np.array([0 for _ in range(n)]), L=function1, eta = 0.01)\n",
    "print(res)"
   ]
  },
  {
   "cell_type": "markdown",
   "id": "e90aee68-1d83-4cba-a188-90c14438e190",
   "metadata": {},
   "source": [
    "### Exercise 2\n",
    "\n",
    "Closely related to the standard gradient descent, many have studied variation of the algorithm to account for more informations on the loss.\n",
    "\n",
    "So-called Newton methods arise when one tries to expend the Taylor expansion above to more terms:\n",
    "$$\n",
    "L(\\theta_0+\\vec{p})=L(\\theta_0)+\\left<\\vec{p}|\\nabla L(\\theta_0)\\right> + \\frac{1}{2!}\\left<\\vec{p}|\\nabla^2L(\\theta_0)\\vec{p}\\right> + \\mathcal{O}(\\|\\vec{p}\\|^3)\n",
    "$$\n",
    "where $\\nabla^2$ denotes the hessian of the loss, i.e. its second order derivatives.\n",
    "Note that since we study a scalar-valued loss, the gradient is a vector and the hessian is a matrix.\n",
    "\n",
    "To solve this, the Newton method uses the information from the hessian by updating $\\vec{p}$ with the inverse of the hessian:\n",
    "$$\n",
    "\\vec{p}:=-\\eta\\nabla^{\\textbf{-2}}L(\\theta_0)\\nabla L(\\theta_0)\n",
    "$$\n",
    "This formula stems from the local minimization of the Taylor expansion. To see that, take the gradient of the top equation with respect to $\\vec{p}$ and make it null (this is a classical optimality condition result, the minimum is achieved where the gradient is null):\n",
    "$$\n",
    "\\begin{array}{ll}&\\nabla L(\\theta_0)+\\nabla^2L(\\theta_0)\\vec{p}=\\vec{0}\\\\ \\therefore & \\vec{p}:=-\\nabla^{\\textbf{-2}}L(\\theta_0)\\nabla L(\\theta_0)\\end{array}\n",
    "$$\n",
    "Notice how the \"learning rate\" has disapeared and the inverse hessian somehow \"took its place\".\n",
    "\n",
    "**Implement the Newton method as `NewtonDescentNaive` starting at $\\theta_0:=\\vec{0}$, using the `hessian_oracle` method of `function2` (suppose it is a convex twice-differentiable function) to get its hessian. You will use the invert of the hessian, noted $\\nabla^{-2}L$ in the above equation, to perform the step.**"
   ]
  },
  {
   "cell_type": "code",
   "execution_count": 6,
   "id": "d3c64ccf-2db1-427f-ac88-e6d20f46b346",
   "metadata": {},
   "outputs": [
    {
     "name": "stdout",
     "output_type": "stream",
     "text": [
      "NewtonNaive :\n",
      "Nombre d'étapes : 3\n",
      "[ 0.40422196  1.18075263 -0.4272086   0.00337047 -0.80424003 -0.44348621\n",
      "  1.14025364  0.03109066  0.39483231 -1.42022893]\n"
     ]
    }
   ],
   "source": [
    "from projet1 import NewtonDescentNaive\n",
    "n=10\n",
    "function2 = make_random_func1(n)\n",
    "print(\"NewtonNaive :\")\n",
    "res = NewtonDescentNaive(eps = 0.001, theta0 = np.array([0 for _ in range(n)]), L=function2)\n",
    "print(res)"
   ]
  },
  {
   "cell_type": "markdown",
   "id": "c425c2ca-7ee5-434b-bfc4-bc4ca7d02160",
   "metadata": {},
   "source": [
    "**Try to make a new version of this solver, `NewtonDescentClever`, which solves the linear system of equations $-\\eta\\nabla^2L(\\theta_0)\\vec{p}=\\nabla L(\\theta_0)$ at each step.\n",
    "Measure the difference in computing time on `function3`.\n",
    "How many iterations does it need?\n",
    "Knowing that the mystery function that you optimize is $L(\\theta)=\\frac{1}{2}\\theta^TA\\theta+b\\theta$ with $A$ an spd matrixKnowing that the mystery function that you optimize is $L(\\theta)=\\frac{1}{2}\\theta^TA\\theta+b\\theta$ with $A$ an spd matrix, can you explain this performance? Would it be the same for another function?**, can you explain this performance? Would it be the same for another function?**"
   ]
  },
  {
   "cell_type": "code",
   "execution_count": 7,
   "id": "fe124419-ec68-472b-929e-3c8c2c4bf257",
   "metadata": {},
   "outputs": [],
   "source": [
    "function3 = make_random_func1(10)"
   ]
  },
  {
   "cell_type": "code",
   "execution_count": 8,
   "id": "d77fcafc-125e-4cdb-992a-2c566d5594f9",
   "metadata": {},
   "outputs": [
    {
     "name": "stdout",
     "output_type": "stream",
     "text": [
      "DescentClever :\n",
      "[-0.37731098 -0.81283873  0.01077625  0.49260029 -0.74676477 -2.16803279\n",
      " -0.20505858  0.39988103 -1.86298351 -0.33402163]\n"
     ]
    }
   ],
   "source": [
    "from projet1 import NewtonDescentClever\n",
    "n=10\n",
    "print(\"DescentClever :\")\n",
    "res = NewtonDescentClever(theta0 = np.array([0 for _ in range(n)]), L=function3)\n",
    "print(res)"
   ]
  },
  {
   "cell_type": "markdown",
   "id": "407e27c3-0601-40e8-a30a-bc7ec4e057e0",
   "metadata": {},
   "source": [
    "### Exercise 3\n",
    "\n",
    "Usualy, the hessian itself is not available to the user, so one may wish to find good approximates for Newton methods.\n",
    "This yields so-called Quasi-Newton methods.\n",
    "\n",
    "The most used are all the BFGS methods (standing for \"Broyden–Fletcher–Goldfarb–Shanno\").\n",
    "\n",
    "The main idea is to update the estimation of the inverse hessian by a low-rank matrix (it should span few dimensions, here 2).\n",
    "\n",
    "This update matrix is described as a weighted sum of:\n",
    "* a projector for the change of gradient $y:=\\nabla L(\\theta_1) - \\nabla L(\\theta_0)$ which as a rank-one matrix is proportional to $yy^T$\n",
    "* a projector for the Newtonian system of equations $s_b:=\\nabla^{-2}L(\\theta_1)(\\theta_1-\\theta_0)$ which as a rank-one matrix is proportional to $s_bs_b^T$. We note $s_b=\\nabla^{-2}L(\\theta_1)s$ with $s$ the change of parameters.\n",
    "\n",
    "The update rule then writes, for $B$ a local approximation of $\\nabla^{-2}L$, noting the outer product $a\\otimes b:=ab^T$ for vectors:\n",
    "$$\n",
    "B_k = B_{k-1} + \\frac{y\\otimes y}{<y|s>} - \\frac{s_b\\otimes s_b}{<s|s_b>}\n",
    "$$\n",
    "\n",
    "The advantage is that the algorithm does not need to invert a full rank system.\n",
    "\n",
    "Here is the algorithm:\n",
    "```\n",
    "Start at:\n",
    "    theta := theta_0\n",
    "    B := Id\n",
    "    grad := gradient_oracle(theta_0)\n",
    "Perform a normal gradient step on theta\n",
    "\n",
    "While no convergence observed:\n",
    "    Set grad_new at gradient_oracle(theta)\n",
    "    Set theta_new to theta - eta * matrix_product( B , grad )\n",
    "    Compute s = theta_new - theta\n",
    "    Compute y = grad_new - grad\n",
    "    Set B_new = B + outer( y , y ) / inner( y , s ) - outer( Bs , Bs ) / inner( s , Bs )\n",
    "    Forget last B, y, s, theta and grad \n",
    "```\n",
    "\n",
    "**Implement the BFGS algorithm in a new `BfgsDescent` class, and test it on the function `function4`. Warning: do NOT use the hessian oracle.**"
   ]
  },
  {
   "cell_type": "code",
   "execution_count": 9,
   "id": "4d239254-ae90-4244-9e16-0b419be746a0",
   "metadata": {},
   "outputs": [],
   "source": [
    "function4 = make_random_func1(10)"
   ]
  },
  {
   "cell_type": "code",
   "execution_count": 10,
   "id": "20dde71f-5015-464c-bd94-d4e93113f819",
   "metadata": {},
   "outputs": [
    {
     "name": "stdout",
     "output_type": "stream",
     "text": [
      "Nombre d'étapes : 2\n"
     ]
    },
    {
     "data": {
      "text/plain": [
       "array([-0.00357709, -0.00905956, -0.00768981,  0.00152305, -0.00486069,\n",
       "       -0.01786793,  0.00833547, -0.01214409,  0.01579896,  0.00338542])"
      ]
     },
     "execution_count": 10,
     "metadata": {},
     "output_type": "execute_result"
    }
   ],
   "source": [
    "from projet1 import BfgsDescent\n",
    "BfgsDescent(eps=1, theta0=np.array([0 for _ in range(10)]), L=function4, eta=0.01)\n",
    "# Remarque : on ne doit pas prendre un epsilon trop petit parce que sinon s et y sont très proches de 0 ce qui amène à des erreurs."
   ]
  },
  {
   "cell_type": "markdown",
   "id": "599155d6-dc35-4a3a-97d7-99b9c75cccd6",
   "metadata": {},
   "source": [
    "### Exercise 4\n",
    "\n",
    "To close the loop, we will study a significantly different kind of problem: the stochastic optimisation.\n",
    "\n",
    "They are way more frequent than deterministic algorithms since a lot of real world applications tackle with the randomness of some data experiments.\n",
    "They are formulated as follows:\n",
    "$$\n",
    "\\min_{\\theta\\in\\Theta}\\underbrace{\\mathbb{E}_{X\\sim\\mathbb{P}}\\left[J_\\theta(X)\\right]}_{:=L(\\theta)}\n",
    "$$\n",
    "\n",
    "We suppose that in a general case, $X$ being observed data vectors, we lack an access to the real data distribution $\\mathbb{P}$.\n",
    "So we cannot sample arbitrarily from $P$ and must design clever algorithm that take care of the complexity of the number of samples that we draw from the distribution $P$.\n",
    "\n",
    "The first idea could be to draw a finite amount of samples $X_0, \\dots, X_N$ for $N$ large enough and perform a monte carlo strategy:\n",
    "$$\n",
    "\\nabla L(\\theta_0)=\\nabla\\left.\\mathbb{E}_{i\\in \\{0\\dots N\\}}\\left[J_\\theta(X_i)\\right]\\right|_{\\theta=\\theta_0}\n",
    "$$\n",
    "\n",
    "Taking directly the gradient of the expectation is not easy theoreticaly, but since the sampling is independent of $\\theta$ (i.e. $\\mathbb{P}\\perp\\theta$), we may exchange $\\mathbb{E}$ and $\\nabla$ and get a good estimate since both operators are linear in different variables:\n",
    "$$\n",
    "\\nabla L(\\theta_0)=\\mathbb{E}_{i\\in \\{0\\dots N\\}}\\left[\\nabla_\\theta\\left.J_\\theta(X_i)\\right|_{\\theta=\\theta_0}\\right]\n",
    "$$\n",
    "This helps understand the relevance of what are called *stochastic gradient descent* (SGD) algorithms which use the gradient oracle for $J$ (instead of $L$ which we cannot access easily):\n",
    "\n",
    "```\n",
    "Start at theta := theta_0\n",
    "While no convergence observed:\n",
    "    Sample a data point X from the distribution\n",
    "    Compute randomized_grad := gradient_oracle( X , theta )\n",
    "    Set theta_new := theta - eta * randomized_grad\n",
    "```\n",
    "\n",
    "One may also use a batched version:\n",
    "```\n",
    "Start at theta := theta_0\n",
    "While no convergence observed:\n",
    "    Sample m+1 data point X_0, ..., X_m from the distribution\n",
    "    Compute batch_grad := gradient_oracle( X_0 , ... , X_m , theta ) as the empirical mean on m+1 data points\n",
    "    Set theta_new := theta - eta * batch_grad\n",
    "```\n",
    "**Implement in the class `StochasticDescent` the minibatch version (for a batchsize of 1, i.e. the first algorithm) for the stochastic loss `function5`.**"
   ]
  },
  {
   "cell_type": "markdown",
   "id": "942f8348-d0e2-4262-b5ba-58fcd60bb13f",
   "metadata": {},
   "source": [
    "The `StochasticDescent` function takes the following arguments :\n",
    "- esp : \n",
    "- theta0 :\n",
    "- L :\n",
    "- eta :\n",
    "- batch_size :\n",
    "\n",
    "\n",
    "\n",
    "La fonction renvoie le theta obtenu après convergence de l'algorithme ainsi que le nombre d'étapes nécessaire à la converge."
   ]
  },
  {
   "cell_type": "code",
   "execution_count": 11,
   "id": "352e4099-e6dc-4811-8ddc-112c8c8769f7",
   "metadata": {},
   "outputs": [],
   "source": [
    "from utils import make_random_func2\n",
    "from projet1 import StochasticDescent"
   ]
  },
  {
   "cell_type": "code",
   "execution_count": 12,
   "id": "e7029e63-80df-4020-a99e-d5edf4db7414",
   "metadata": {},
   "outputs": [],
   "source": [
    "n=10\n",
    "function5 = make_random_func2(10000, n)"
   ]
  },
  {
   "cell_type": "markdown",
   "id": "33e18345-2e92-437b-bc73-dfe468a81773",
   "metadata": {},
   "source": [
    "Testons l'algorithme sur la fonction5."
   ]
  },
  {
   "cell_type": "code",
   "execution_count": 13,
   "id": "2b320db0-9810-4979-aec2-3bdb808fb868",
   "metadata": {},
   "outputs": [
    {
     "data": {
      "text/plain": [
       "(array([ 1.87042146, -0.13879263,  0.98073211, -0.29335793,  0.34398929,\n",
       "         0.6915125 ,  0.99386187,  0.05381504, -0.47525275,  0.90614872]),\n",
       " 3153)"
      ]
     },
     "execution_count": 13,
     "metadata": {},
     "output_type": "execute_result"
    }
   ],
   "source": [
    "StochasticDescent(eps=0.001, theta0=np.array([0 for _ in range(n)]), L=function5, eta=0.005, batch_size = n)"
   ]
  },
  {
   "cell_type": "code",
   "execution_count": 14,
   "id": "cdc2e57f-37fd-4fc8-84c1-26a0c99b2b9a",
   "metadata": {},
   "outputs": [
    {
     "data": {
      "text/plain": [
       "(array([ 2.12223527, -0.27997863,  1.16679828, -0.20194445,  0.35364349,\n",
       "         0.7269505 ,  0.80158605,  0.1346454 , -0.48327749,  1.0810845 ]),\n",
       " 3236)"
      ]
     },
     "execution_count": 14,
     "metadata": {},
     "output_type": "execute_result"
    }
   ],
   "source": [
    "StochasticDescent(eps=0.001, theta0=np.array([0 for _ in range(n)]), L=function5, eta=0.005, batch_size = n)"
   ]
  },
  {
   "cell_type": "code",
   "execution_count": 15,
   "id": "58d18225-738f-4656-86c2-1baef874e50b",
   "metadata": {},
   "outputs": [
    {
     "data": {
      "text/plain": [
       "(array([ 1.08789042, -0.1580168 ,  0.46990435,  0.09690028,  0.16769402,\n",
       "         0.5148295 ,  0.48180392,  0.35848687, -0.35168419,  0.50839823]),\n",
       " 1226)"
      ]
     },
     "execution_count": 15,
     "metadata": {},
     "output_type": "execute_result"
    }
   ],
   "source": [
    "StochasticDescent(eps=0.001, theta0=np.array([0 for _ in range(n)]), L=function5, eta=0.005, batch_size = n)"
   ]
  },
  {
   "cell_type": "markdown",
   "id": "7ac698a7-e40e-4b49-bf6a-9388b0c517a6",
   "metadata": {},
   "source": [
    "Une première chose que l'on peut voir est que pour les mêmes paramètres (donc la même fonction), le nombre d'étapes nécessaires pour converger diffère ce qui n'était pas le cas pour les méthodes précédentes. Cette différence est dûe au fait que l'algorithme soit stochastique alors que les algorithmes précédents étaient déterministes. Ici, on prend de manière aléatoire des valeurs pour construire notre gradient : on peut parfois avoir de la chance et prendre des points de qualités et converger rapidement vers un résultat ou à l'inverse prendre plus de temps à converger à cause d'une sélection de points défavorable."
   ]
  },
  {
   "cell_type": "markdown",
   "id": "ccbf46e9-5cde-4ec0-a6cb-d25fe07b9084",
   "metadata": {},
   "source": [
    "Une seconde chose que l'on peut observer est que l'on ne converge pas vers le même point contrairement aux autres algorithmes. Cela est également dû à la manière dont est construit l'algorithme et ce que l'on cherche à obtenir. On ne va pas chercher à obtenir une valeur précise, mais plutôt un pavé dans lequel devrait se trouver le minimum global que l'on cherche à prédire."
   ]
  },
  {
   "cell_type": "markdown",
   "id": "da44ec71-b150-4da2-8b18-496328073f52",
   "metadata": {},
   "source": [
    "Pour illustrer cela, nous allons devoir nous limiter à de petites dimensions. Nous allons construire un histogramme de nos valeurs pour voir si certaines valeurs ressortent et construire un intervalle de confiance."
   ]
  },
  {
   "cell_type": "markdown",
   "id": "067aa81d-b07b-43bd-9649-650705b3489a",
   "metadata": {},
   "source": [
    "Dimesion 1"
   ]
  },
  {
   "cell_type": "code",
   "execution_count": 33,
   "id": "fdbc5bb1-351d-41b4-92c8-b856c2e55a3c",
   "metadata": {},
   "outputs": [],
   "source": [
    "n=1\n",
    "function_test = make_random_func2(10000, n)"
   ]
  },
  {
   "cell_type": "code",
   "execution_count": 38,
   "id": "58fd2fac-de8d-45f7-9ee8-814e181edc2b",
   "metadata": {},
   "outputs": [
    {
     "data": {
      "image/png": "[encoded data removed]",
      "text/plain": [
       "<Figure size 640x480 with 1 Axes>"
      ]
     },
     "metadata": {},
     "output_type": "display_data"
    }
   ],
   "source": [
    "import matplotlib.pyplot as plt\n",
    "\n",
    "# Vecteur résultat\n",
    "results = [StochasticDescent(eps=0.001, theta0=np.array([0 for _ in range(n)]), L=function_test, eta=0.01, batch_size = n)[0][0] for _ in range(100)]\n",
    "\n",
    "# Histogramme\n",
    "plt.hist(results, bins=10, edgecolor='k', alpha=0.7)\n",
    "plt.title(\"Histogramme des valeurs de StochasticDescent\")\n",
    "plt.xlabel(\"Valeur\")\n",
    "plt.ylabel(\"Fréquence\")\n",
    "plt.show()\n"
   ]
  },
  {
   "cell_type": "markdown",
   "id": "aa080ab2-70be-4a02-9b8f-0fa287ea151c",
   "metadata": {},
   "source": [
    "On voit bien apparaitre sur l'histogramme le fait que l'algorithme ne prédise pas toujours la même valeur. Néanmoins, on voit également que la répartition n'est pas uniforme : certaines valeurs sont plus populaires (ici les valeurs proches de 0)."
   ]
  },
  {
   "cell_type": "markdown",
   "id": "81fa663d-c55d-4dc8-be12-167e89c02e61",
   "metadata": {},
   "source": [
    "Dimension 2"
   ]
  },
  {
   "cell_type": "code",
   "execution_count": 39,
   "id": "37ef3e19-2a53-4b2d-a096-4de4b1143fe5",
   "metadata": {},
   "outputs": [],
   "source": [
    "n=2\n",
    "function_test = make_random_func2(10000, n)"
   ]
  },
  {
   "cell_type": "code",
   "execution_count": 41,
   "id": "b8211bf6-2619-4bae-82a7-6f5c4b8af56f",
   "metadata": {},
   "outputs": [
    {
     "data": {
      "image/png": "[encoded data removed]",
      "text/plain": [
       "<Figure size 800x600 with 2 Axes>"
      ]
     },
     "metadata": {},
     "output_type": "display_data"
    }
   ],
   "source": [
    "\n",
    "results = np.array([StochasticDescent(eps=0.001, theta0=np.array([0 for _ in range(n)]), L=function_test, eta=0.01, batch_size = n)[0] for _ in range(100)])  # Récupérer les np.array de taille 2\n",
    "\n",
    "# Separer les deux dimensions\n",
    "x_vals = results[:, 0] \n",
    "y_vals = results[:, 1]\n",
    "\n",
    "# Creer une figure avec un gradient de densite\n",
    "plt.figure(figsize=(8, 6))\n",
    "plt.hist2d(x_vals, y_vals, bins=20, cmap='plasma')  # Histogramme 2D avec gradient de couleur\n",
    "\n",
    "# Ajouter des éléments de visualisation\n",
    "plt.colorbar(label=\"Fréquence\")  # Barre de couleur pour indiquer les densités\n",
    "plt.title(\"Histogramme 2D avec gradient de couleur\")\n",
    "plt.xlabel(\"Valeur X\")\n",
    "plt.ylabel(\"Valeur Y\")\n",
    "plt.show()\n"
   ]
  },
  {
   "cell_type": "markdown",
   "id": "592e1c1c-fd8e-43e1-8253-b5735142434e",
   "metadata": {},
   "source": [
    "Comme pour la dimension 1, on voit également que les résultats de l'algorithme de StochasticGradient ne sont pas distribués de manière uniforme mais que certaines valeurs ressortent plus souvent."
   ]
  },
  {
   "cell_type": "markdown",
   "id": "227aaa56-e4ba-4f58-9199-317f1fd156b0",
   "metadata": {},
   "source": [
    "Ajouter une conclusion ?"
   ]
  },
  {
   "cell_type": "markdown",
   "id": "c37fea9c-801b-4209-a340-1fe5eb61a41a",
   "metadata": {},
   "source": [
    "In the machine learning cmmunity, the optimisation problems may not be convex, they may have saddle point (the hessian is non-invertible so the algorithm is stuck) or be highly stochastic.\n",
    "The distribution $\\mathbb{P}$ may be populated by a very high amount of samples as well.\n",
    "\n",
    "\n",
    "So stochastic algorithm had to be improved in several ways.\n",
    "The first good idea came (mostly) from Pr. Nesterov, it is the addition of a \"momentum\" in the gradient descent to get out of local minima, accelerate the descent, and cross the most dangerous saddle points.\n",
    "\n",
    "It has now been time and time improved upon, leading to the popular *Adam* algorithm.\n",
    "\n",
    "It looks as follows:\n",
    "```\n",
    "Given two parameters beta_1 and beta_2, and learning rate eta\n",
    "Start with:\n",
    "    theta := theta_0\n",
    "    m := 0 (first moment ~> mean)\n",
    "    v := 0 (second moment ~> variance)\n",
    "While no convergence observed:\n",
    "    Take a (mini/small/full)batch of the data, X\n",
    "    Set grad_new := gradient_oracle( theta , X )\n",
    "    Set m_new = beta_1 * m + (1-beta_1) * grad_new\n",
    "    Set v_new = beta_2 * v + (1-beta_2) * grad_new * grad_new\n",
    "    Correct biases in moment estimates:\n",
    "        Set m_hat = m_new / (1-beta_1)\n",
    "        Set v_hat = v_new / (1-beta_2)\n",
    "    Set theta_new := theta - eta * m_hat / square_root( v_hat )\n",
    "```\n",
    "**Implement this new algorithm for `function6`. Try to explain in your own words what the main ideas of this algorithm are, and comment on the hyper parameters $\\beta_1$ and $\\beta_2$.**"
   ]
  },
  {
   "cell_type": "code",
   "execution_count": 22,
   "id": "f94cc6fb-bcd1-4b02-92e0-45bc0c50d4a6",
   "metadata": {},
   "outputs": [
    {
     "data": {
      "text/plain": [
       "array([-0.26276361,  0.61991127,  0.67356205,  0.70458069])"
      ]
     },
     "execution_count": 22,
     "metadata": {},
     "output_type": "execute_result"
    }
   ],
   "source": [
    "from projet1 import Adam\n",
    "n=4\n",
    "function6 = make_random_func2(10000, n)\n",
    "Adam(L=function6, theta_0=np.array([0 for _ in range(n)]), eps=0.1, eta=0.1, beta_1=0.9, beta_2=0.99)"
   ]
  },
  {
   "cell_type": "markdown",
   "id": "e81fb43d-0fa5-41f6-ae6b-8ba011e717fa",
   "metadata": {},
   "source": [
    "$\\beta_1$ et $\\beta_2$ permettent de contrôler les variations de $m$ et $v$ qui sont en fait les moments d'ordre 1 et 2 du gradient. Plus $\\beta_1$ et $\\beta_2$ sont grands, plus le m final dépendra de moins en moins des derniers gradients calculés dans la boucle."
   ]
  }
 ],
 "metadata": {
  "kernelspec": {
   "display_name": "Python 3 (ipykernel)",
   "language": "python",
   "name": "python3"
  },
  "language_info": {
   "codemirror_mode": {
    "name": "ipython",
    "version": 3
   },
   "file_extension": ".py",
   "mimetype": "text/x-python",
   "name": "python",
   "nbconvert_exporter": "python",
   "pygments_lexer": "ipython3",
   "version": "3.12.4"
  }
 },
 "nbformat": 4,
 "nbformat_minor": 5
}
