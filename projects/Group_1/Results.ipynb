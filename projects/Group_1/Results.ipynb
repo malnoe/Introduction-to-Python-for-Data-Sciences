{
 "cells": [
  {
   "cell_type": "code",
   "execution_count": 1,
   "id": "4c36cc0a-43b2-4293-86a7-0dedf8653266",
   "metadata": {},
   "outputs": [],
   "source": [
    "import numpy as np\n",
    "import pandas as pd\n",
    "import random\n",
    "from baseloss import LossFunction\n",
    "from baseoptimizer import Optimizer\n",
    "from utils import make_random_func1, make_random_func2\n",
    "from projet1 import gradient_descent, gradient_descent_1, newton_descent_naive, newton_descent_naive_1, newton_descent_clever, bfgs_descent, bfgs_descent_1"
   ]
  },
  {
   "cell_type": "code",
   "execution_count": 14,
   "id": "8851a281-e628-4bc2-a5f0-31486ce0a0e4",
   "metadata": {},
   "outputs": [
    {
     "name": "stdout",
     "output_type": "stream",
     "text": [
      "Nombre d'étapes : 42\n"
     ]
    },
    {
     "name": "stderr",
     "output_type": "stream",
     "text": [
      "C:\\Users\\garan\\Lib\\site-packages\\numpy\\_core\\numeric.py:971: RuntimeWarning: overflow encountered in multiply\n",
      "  return multiply(a.ravel()[:, newaxis], b.ravel()[newaxis, :], out)\n",
      "C:\\Users\\garan\\ProjetsMaster\\ProjetsPython\\Introduction-to-Python-for-Data-Sciences\\projects\\Group_1\\projet1.py:124: RuntimeWarning: invalid value encountered in divide\n",
      "  B += (np.outer(y, y) / np.dot(y, s)) - (np.outer(Bs, Bs) / np.dot(s, Bs))\n"
     ]
    },
    {
     "data": {
      "text/plain": [
       "array([nan, nan, nan, nan, nan, nan, nan, nan, nan, nan])"
      ]
     },
     "execution_count": 14,
     "metadata": {},
     "output_type": "execute_result"
    }
   ],
   "source": [
    "n=10\n",
    "function1 = make_random_func1(n)\n",
    "bfgs_descent(eps=0.0001, theta0=np.array([0 for _ in range(10)]), L=function1, eta=0.1)"
   ]
  },
  {
   "cell_type": "code",
   "execution_count": null,
   "id": "d86ae948-eeae-40d7-a053-47d4dae9c6d6",
   "metadata": {},
   "outputs": [],
   "source": [
    "# nombre d'etapes pour diffenrets eta avec la fonction GradientDescent\n",
    "eta_values = [0.01,0.1,1,5]\n",
    "for i in eta_values:\n",
    "    result = gradient_descent(eps = 0.001, theta0 = np.array([0 for _ in range(n)]), L=function1, eta = i)"
   ]
  },
  {
   "cell_type": "code",
   "execution_count": null,
   "id": "534be74f-926d-41ab-a885-4871be85af2f",
   "metadata": {},
   "outputs": [],
   "source": [
    "# nombre d'etapes pour diffenrets eta avec la fonction NewtonDescentNaive\n",
    "eta_values = [0.001,0.01,0.1,1,5,10]\n",
    "for i in eta_values:\n",
    "    result = newton_descent_naive(eps = 0.0001, theta0 = np.array([0 for _ in range(n)]), L=function1, eta=i)"
   ]
  },
  {
   "cell_type": "code",
   "execution_count": null,
   "id": "af12a3f7-31e2-430f-8fec-e7ea01e70eff",
   "metadata": {},
   "outputs": [],
   "source": [
    "# nombre d'etapes pour diffenrets eta avec la fonction BfgsDescent\n",
    "from projet1_kento import BfgsDescent\n",
    "eta_values = [0.001,0.01,0.1,1,5,10]\n",
    "for i in eta_values:\n",
    "    bfgs_descent(eps=0.0001, theta0=np.array([0 for _ in range(n)]), L=function1, eta=i)"
   ]
  },
  {
   "cell_type": "code",
   "execution_count": 6,
   "id": "c09dd16a-94df-44ed-851e-7578851d5603",
   "metadata": {},
   "outputs": [
    {
     "data": {
      "text/html": [
       "<div>\n",
       "<style scoped>\n",
       "    .dataframe tbody tr th:only-of-type {\n",
       "        vertical-align: middle;\n",
       "    }\n",
       "\n",
       "    .dataframe tbody tr th {\n",
       "        vertical-align: top;\n",
       "    }\n",
       "\n",
       "    .dataframe thead th {\n",
       "        text-align: right;\n",
       "    }\n",
       "</style>\n",
       "<table border=\"1\" class=\"dataframe\">\n",
       "  <thead>\n",
       "    <tr style=\"text-align: right;\">\n",
       "      <th></th>\n",
       "      <th>eta</th>\n",
       "      <th>GrandientDescent</th>\n",
       "      <th>NewtonDescentNaive</th>\n",
       "      <th>BfgsDescent</th>\n",
       "    </tr>\n",
       "  </thead>\n",
       "  <tbody>\n",
       "    <tr>\n",
       "      <th>0</th>\n",
       "      <td>10</td>\n",
       "      <td>300</td>\n",
       "      <td>325</td>\n",
       "      <td>28</td>\n",
       "    </tr>\n",
       "    <tr>\n",
       "      <th>1</th>\n",
       "      <td>5</td>\n",
       "      <td>447</td>\n",
       "      <td>514</td>\n",
       "      <td>28</td>\n",
       "    </tr>\n",
       "    <tr>\n",
       "      <th>2</th>\n",
       "      <td>1</td>\n",
       "      <td>92</td>\n",
       "      <td>3</td>\n",
       "      <td>28</td>\n",
       "    </tr>\n",
       "    <tr>\n",
       "      <th>3</th>\n",
       "      <td>0.1</td>\n",
       "      <td>10</td>\n",
       "      <td>74</td>\n",
       "      <td>64</td>\n",
       "    </tr>\n",
       "    <tr>\n",
       "      <th>4</th>\n",
       "      <td>0.01</td>\n",
       "      <td>721</td>\n",
       "      <td>521</td>\n",
       "      <td>494</td>\n",
       "    </tr>\n",
       "    <tr>\n",
       "      <th>5</th>\n",
       "      <td>0.001</td>\n",
       "      <td>4981</td>\n",
       "      <td>2910</td>\n",
       "      <td>2783</td>\n",
       "    </tr>\n",
       "  </tbody>\n",
       "</table>\n",
       "</div>"
      ],
      "text/plain": [
       "     eta  GrandientDescent  NewtonDescentNaive  BfgsDescent\n",
       "0     10               300                 325           28\n",
       "1      5               447                 514           28\n",
       "2      1                92                   3           28\n",
       "3    0.1                10                  74           64\n",
       "4   0.01               721                 521          494\n",
       "5  0.001              4981                2910         2783"
      ]
     },
     "execution_count": 6,
     "metadata": {},
     "output_type": "execute_result"
    }
   ],
   "source": [
    "# esp = 0.0001\n",
    "tableau1 = pd.DataFrame(\n",
    "    {'eta':[\"10\",\"5\",\"1\",\"0.1\",\"0.01\",\"0.001\"],\n",
    "     'GrandientDescent':[300,447,92,10,721,4981],\n",
    "     'NewtonDescentNaive':[325,514,3,74,521,2910],\n",
    "     'BfgsDescent':[28,28,28,64,494,2783]})\n",
    "tableau1"
   ]
  },
  {
   "cell_type": "code",
   "execution_count": 7,
   "id": "6f203368-270f-49d2-acd7-2c77c5940976",
   "metadata": {},
   "outputs": [
    {
     "name": "stdout",
     "output_type": "stream",
     "text": [
      "Nombre d'étapes : 98\n",
      "Nombre d'étapes : 54\n",
      "Nombre d'étapes : 32\n",
      "Nombre d'étapes : 11\n",
      "Nombre d'étapes : 2\n",
      "Nombre d'étapes : 2\n"
     ]
    }
   ],
   "source": [
    "# nombre d'etapes pour diffenrets eps avec la fonction GradientDescent\n",
    "eps_values = [0.00001,0.001,0.01,0.1,1,10]\n",
    "for i in eps_values:\n",
    "    result = gradient_descent(eps = i, theta0 = np.array([0 for _ in range(n)]), L=function1, eta = 0.1)"
   ]
  },
  {
   "cell_type": "code",
   "execution_count": 8,
   "id": "ae36bee9-4f2c-45de-8f89-647e6dd34b96",
   "metadata": {},
   "outputs": [
    {
     "name": "stdout",
     "output_type": "stream",
     "text": [
      "Nombre d'étapes : 98\n",
      "Nombre d'étapes : 55\n",
      "Nombre d'étapes : 33\n",
      "Nombre d'étapes : 11\n",
      "Nombre d'étapes : 2\n",
      "Nombre d'étapes : 2\n"
     ]
    }
   ],
   "source": [
    "# nombre d'etapes pour diffenrets eps avec la fonction NewtonDescentNaive\n",
    "eps_values = [0.00001,0.001,0.01,0.1,1,10]\n",
    "for i in eps_values:\n",
    "    result = newton_descent_naive(eps = i, theta0 = np.array([0 for _ in range(n)]), L=function1, eta=0.1)"
   ]
  },
  {
   "cell_type": "code",
   "execution_count": 9,
   "id": "c57ec2e8-6ceb-4bba-8e4c-ea6f34bba299",
   "metadata": {},
   "outputs": [
    {
     "name": "stdout",
     "output_type": "stream",
     "text": [
      "Nombre d'étapes : 31\n",
      "Nombre d'étapes : 31\n",
      "Nombre d'étapes : 31\n",
      "Nombre d'étapes : 31\n",
      "Nombre d'étapes : 2\n",
      "Nombre d'étapes : 2\n"
     ]
    },
    {
     "name": "stderr",
     "output_type": "stream",
     "text": [
      "C:\\Users\\garan\\ProjetsMaster\\ProjetsPython\\Introduction-to-Python-for-Data-Sciences\\projects\\Group_1\\projet1_kento.py:79: RuntimeWarning: invalid value encountered in scalar divide\n",
      "  B = B + np.dot(y,y.T)/np.dot(y,s) - np.dot(Bs,Bs.T)/np.dot(s,Bs)\n",
      "C:\\Users\\garan\\ProjetsMaster\\ProjetsPython\\Introduction-to-Python-for-Data-Sciences\\projects\\Group_1\\functions.py:17: RuntimeWarning: invalid value encountered in matmul\n",
      "  return self.A @ theta + self.b\n"
     ]
    }
   ],
   "source": [
    "# nombre d'etapes pour diffenrets eps avec la fonction BfgsDescent\n",
    "eps_values = [0.000000001,0.001,0.01,0.1,1,10]\n",
    "for i in eps_values:\n",
    "    result = bfgs_descent(eps=i, theta0=np.array([0 for _ in range(n)]), L=function1, eta=0.1)"
   ]
  },
  {
   "cell_type": "code",
   "execution_count": 10,
   "id": "c85d501c-8efe-4089-bf87-776e03cfcebb",
   "metadata": {},
   "outputs": [
    {
     "data": {
      "text/html": [
       "<div>\n",
       "<style scoped>\n",
       "    .dataframe tbody tr th:only-of-type {\n",
       "        vertical-align: middle;\n",
       "    }\n",
       "\n",
       "    .dataframe tbody tr th {\n",
       "        vertical-align: top;\n",
       "    }\n",
       "\n",
       "    .dataframe thead th {\n",
       "        text-align: right;\n",
       "    }\n",
       "</style>\n",
       "<table border=\"1\" class=\"dataframe\">\n",
       "  <thead>\n",
       "    <tr style=\"text-align: right;\">\n",
       "      <th></th>\n",
       "      <th>eps</th>\n",
       "      <th>GrandientDescent</th>\n",
       "      <th>NewtonDescentNaive</th>\n",
       "      <th>BfgsDescent</th>\n",
       "    </tr>\n",
       "  </thead>\n",
       "  <tbody>\n",
       "    <tr>\n",
       "      <th>0</th>\n",
       "      <td>10</td>\n",
       "      <td>2</td>\n",
       "      <td>2</td>\n",
       "      <td>2</td>\n",
       "    </tr>\n",
       "    <tr>\n",
       "      <th>1</th>\n",
       "      <td>1</td>\n",
       "      <td>2</td>\n",
       "      <td>2</td>\n",
       "      <td>2</td>\n",
       "    </tr>\n",
       "    <tr>\n",
       "      <th>2</th>\n",
       "      <td>0.1</td>\n",
       "      <td>8</td>\n",
       "      <td>8</td>\n",
       "      <td>9</td>\n",
       "    </tr>\n",
       "    <tr>\n",
       "      <th>3</th>\n",
       "      <td>0.01</td>\n",
       "      <td>30</td>\n",
       "      <td>30</td>\n",
       "      <td>27</td>\n",
       "    </tr>\n",
       "    <tr>\n",
       "      <th>4</th>\n",
       "      <td>0.001</td>\n",
       "      <td>50</td>\n",
       "      <td>52</td>\n",
       "      <td>45</td>\n",
       "    </tr>\n",
       "    <tr>\n",
       "      <th>5</th>\n",
       "      <td>0.0001</td>\n",
       "      <td>92</td>\n",
       "      <td>96</td>\n",
       "      <td>83</td>\n",
       "    </tr>\n",
       "  </tbody>\n",
       "</table>\n",
       "</div>"
      ],
      "text/plain": [
       "      eps  GrandientDescent  NewtonDescentNaive  BfgsDescent\n",
       "0      10                 2                   2            2\n",
       "1       1                 2                   2            2\n",
       "2     0.1                 8                   8            9\n",
       "3    0.01                30                  30           27\n",
       "4   0.001                50                  52           45\n",
       "5  0.0001                92                  96           83"
      ]
     },
     "execution_count": 10,
     "metadata": {},
     "output_type": "execute_result"
    }
   ],
   "source": [
    "# esp = 0.0001\n",
    "tableau2 = pd.DataFrame(\n",
    "    {'eps':[\"10\",\"1\",\"0.1\",\"0.01\",\"0.001\",\"0.0001\"],\n",
    "     'GrandientDescent':[2,2,8,30,50,92],\n",
    "     'NewtonDescentNaive':[2,2,8,30,52,96],\n",
    "     'BfgsDescent':[2,2,9,27,45,83]})\n",
    "tableau2"
   ]
  },
  {
   "cell_type": "code",
   "execution_count": 11,
   "id": "486e9e86-dfee-4792-83c2-8d319343e3a2",
   "metadata": {},
   "outputs": [],
   "source": [
    "import matplotlib.pyplot as plt\n",
    "from projet1_kento import GradientDescent1\n",
    "from projet1_kento import NewtonDescentNaive1\n",
    "from projet1_kento import BfgsDescent1"
   ]
  },
  {
   "cell_type": "code",
   "execution_count": 12,
   "id": "de9e2cc3-81e9-43f0-b0a0-124785a2e4ed",
   "metadata": {
    "scrolled": true
   },
   "outputs": [
    {
     "name": "stderr",
     "output_type": "stream",
     "text": [
      "C:\\Users\\garan\\ProjetsMaster\\ProjetsPython\\Introduction-to-Python-for-Data-Sciences\\projects\\Group_1\\projet1_kento.py:107: RuntimeWarning: invalid value encountered in scalar divide\n",
      "  B = B + np.dot(y,y.T)/np.dot(y,s) - np.dot(Bs,Bs.T)/np.dot(s,Bs)\n",
      "C:\\Users\\garan\\ProjetsMaster\\ProjetsPython\\Introduction-to-Python-for-Data-Sciences\\projects\\Group_1\\functions.py:17: RuntimeWarning: invalid value encountered in matmul\n",
      "  return self.A @ theta + self.b\n"
     ]
    },
    {
     "data": {
      "text/plain": [
       "<function matplotlib.pyplot.show(close=None, block=None)>"
      ]
     },
     "execution_count": 12,
     "metadata": {},
     "output_type": "execute_result"
    },
    {
     "data": {
      "image/png": "[encoded data removed]",
      "text/plain": [
       "<Figure size 640x480 with 1 Axes>"
      ]
     },
     "metadata": {},
     "output_type": "display_data"
    }
   ],
   "source": [
    "vector = [100,10,1,.1,.01,.001,.0001,.00001,.000001]\n",
    "epsGD = []\n",
    "epsNDN = []\n",
    "epsBD = []\n",
    "for i in vector:\n",
    "    epsGD.append(GradientDescent1(eps=i, theta0 = np.array([0 for _ in range(n)]), L=function1, eta=0.1))\n",
    "    epsNDN.append(NewtonDescentNaive1(eps=i, theta0 = np.array([0 for _ in range(n)]), L=function1, eta=0.1))\n",
    "    epsBD.append(BfgsDescent1(eps=i, theta0=np.array([0 for _ in range(10)]), L=function1, eta=0.1))\n",
    "\n",
    "plt.plot(vector,epsGD,'o',label=\"GradientDescent\")\n",
    "plt.plot(vector,epsNDN,'x',label=\"NewtonDescentNaive\")\n",
    "plt.plot(vector,epsBD,'^', label=\"BfgsDescent\")\n",
    "plt.yscale('log')\n",
    "plt.xscale('log')\n",
    "\n",
    "plt.title(\"Nombre d'itération en fonction de epsilon\")\n",
    "plt.xlabel(\"epsilon\")\n",
    "plt.ylabel(\"Nombre d'itération\")\n",
    "plt.legend()\n",
    "plt.grid(True)\n",
    "plt.show"
   ]
  },
  {
   "cell_type": "code",
   "execution_count": 13,
   "id": "b88d1126-a866-4f71-9693-aa83a18b1e64",
   "metadata": {},
   "outputs": [
    {
     "name": "stderr",
     "output_type": "stream",
     "text": [
      "C:\\Users\\garan\\ProjetsMaster\\ProjetsPython\\Introduction-to-Python-for-Data-Sciences\\projects\\Group_1\\projet1_kento.py:27: RuntimeWarning: overflow encountered in multiply\n",
      "  p = -eta * Function1.grad_oracle(L, liste_theta[-1])\n",
      "C:\\Users\\garan\\ProjetsMaster\\ProjetsPython\\Introduction-to-Python-for-Data-Sciences\\projects\\Group_1\\projet1_kento.py:28: RuntimeWarning: invalid value encountered in add\n",
      "  liste_theta.append(liste_theta[-1] + p)\n",
      "C:\\Users\\garan\\ProjetsMaster\\ProjetsPython\\Introduction-to-Python-for-Data-Sciences\\projects\\Group_1\\projet1_kento.py:50: RuntimeWarning: overflow encountered in multiply\n",
      "  p = -eta*np.dot(np.linalg.inv(Function1.hessian_oracle(L,liste_theta[-1])), Function1.grad_oracle(L,liste_theta[-1]))\n",
      "C:\\Users\\garan\\ProjetsMaster\\ProjetsPython\\Introduction-to-Python-for-Data-Sciences\\projects\\Group_1\\functions.py:17: RuntimeWarning: overflow encountered in matmul\n",
      "  return self.A @ theta + self.b\n"
     ]
    },
    {
     "data": {
      "text/plain": [
       "<function matplotlib.pyplot.show(close=None, block=None)>"
      ]
     },
     "execution_count": 13,
     "metadata": {},
     "output_type": "execute_result"
    },
    {
     "data": {
      "image/png": "[encoded data removed]",
      "text/plain": [
       "<Figure size 640x480 with 1 Axes>"
      ]
     },
     "metadata": {},
     "output_type": "display_data"
    }
   ],
   "source": []
  },
  {
   "cell_type": "code",
   "execution_count": null,
   "id": "a4cec15f-9270-4787-9eca-bbed20356f73",
   "metadata": {},
   "outputs": [],
   "source": []
  }
 ],
 "metadata": {
  "kernelspec": {
   "display_name": "Python 3 (ipykernel)",
   "language": "python",
   "name": "python3"
  },
  "language_info": {
   "codemirror_mode": {
    "name": "ipython",
    "version": 3
   },
   "file_extension": ".py",
   "mimetype": "text/x-python",
   "name": "python",
   "nbconvert_exporter": "python",
   "pygments_lexer": "ipython3",
   "version": "3.12.4"
  }
 },
 "nbformat": 4,
 "nbformat_minor": 5
}
