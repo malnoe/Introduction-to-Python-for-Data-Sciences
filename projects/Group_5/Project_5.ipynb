{
 "cells": [
  {
   "cell_type": "markdown",
   "id": "d6513e49-b1cc-4604-b563-cf8b1809fc6a",
   "metadata": {},
   "source": [
    "<table>\n",
    "<tr>\n",
    "<td width=15%><img src=\"../../img/UGA.png\"></img></td>\n",
    "<td><center><h1>Project n°5</h1></center></td>\n",
    "<td width=15%><a href=\"https://team.inria.fr/tripop/team-members/\" style=\"font-size: 16px; font-weight: bold\">Florian Vincent</a> </td>\n",
    "</tr>\n",
    "</table>"
   ]
  },
  {
   "cell_type": "code",
   "execution_count": 1,
   "id": "20647865-8316-4ee0-a021-ed961be14b4c",
   "metadata": {},
   "outputs": [],
   "source": [
    "import numpy as np\n",
    "import pandas as pd\n",
    "import matplotlib.pyplot as plt\n",
    "import seaborn as sns"
   ]
  },
  {
   "cell_type": "code",
   "execution_count": 2,
   "id": "6901f496-9a78-4b60-a931-303320d3c229",
   "metadata": {},
   "outputs": [],
   "source": [
    "%load_ext autoreload\n",
    "%autoreload 2"
   ]
  },
  {
   "cell_type": "markdown",
   "id": "aca73c79-e5cb-49cf-bafa-6e2496d4e1e5",
   "metadata": {},
   "source": [
    "# Pattern detection\n",
    "\n",
    "This project is based entirely on the online dataset [Covertype from UC-Irvine](https://archive.ics.uci.edu/dataset/31/covertype).\n",
    "To avoid copy-pastings of foreign code, it will guide you towards specific tools to test and use.\n",
    "\n",
    "## Overview of the project\n",
    "\n",
    "The goal of this project is not to perform complex classification: we will study binary classification for the dataset ($1$ if the sample is of cover type $2$ and $0$ if it has any other of the $7$ classes).\n",
    "\n",
    "Take a look at the data in the csv file (`unzip forest_data.zip`)."
   ]
  },
  {
   "cell_type": "code",
   "execution_count": 3,
   "id": "4a41d6b3-c709-449d-bfd6-3b6c463d677a",
   "metadata": {},
   "outputs": [],
   "source": [
    "## Write your code here"
   ]
  },
  {
   "cell_type": "markdown",
   "id": "34662c17-7fc2-46a6-8c00-5fec6989a16f",
   "metadata": {},
   "source": [
    "In order to perform good classification, one must aim to process the data in the most precise way possible.\n",
    "This project will go through som operations you can perform to do so."
   ]
  },
  {
   "cell_type": "markdown",
   "id": "160d63c9-9390-4fb0-9ff8-f1b332ece4f0",
   "metadata": {},
   "source": [
    "## Study the data\n",
    "\n",
    "Before diving in the models you will study, you must first take a good look at your data.\n",
    "\n",
    "**Display some relevant statistics from your data, the type of data considered per feature (categorical? binary? continuous?), and discuss the number of samples.**"
   ]
  },
  {
   "cell_type": "code",
   "execution_count": 4,
   "id": "281289d0-29d7-41a9-999e-9b168e200de6",
   "metadata": {},
   "outputs": [],
   "source": [
    "## Write your code here"
   ]
  },
  {
   "cell_type": "markdown",
   "id": "0aa7031a-2447-4d0e-995e-29de307b9fb8",
   "metadata": {},
   "source": [
    "**Study the variance (or standard deviation) per feature: what can you conclude ?**"
   ]
  },
  {
   "cell_type": "code",
   "execution_count": 5,
   "id": "54080c85-6342-4465-805f-c6baf8e22232",
   "metadata": {},
   "outputs": [],
   "source": [
    "## Write your code here"
   ]
  },
  {
   "cell_type": "markdown",
   "id": "6a1afce9-efb5-4c45-8b7d-86fb55377873",
   "metadata": {},
   "source": [
    "**Study the covariance between the features and the labels: what can you conclude ?**"
   ]
  },
  {
   "cell_type": "code",
   "execution_count": 6,
   "id": "806e88f0-a019-45b8-b184-eb5dd57ce55e",
   "metadata": {},
   "outputs": [],
   "source": [
    "## Write your code here"
   ]
  },
  {
   "cell_type": "markdown",
   "id": "fb3e9bc7-c068-461c-b6d8-1bf2cf121ac6",
   "metadata": {},
   "source": [
    "One may wish to take a deeper look in the database by using various techniques.\n",
    "\n",
    "**Find a suitable dimension reduction technique to study the structure of the data. Display your findings with visual tools.**"
   ]
  },
  {
   "cell_type": "code",
   "execution_count": 7,
   "id": "bb697da5-2027-47ec-a290-c10f25432edb",
   "metadata": {},
   "outputs": [],
   "source": [
    "## Write your code here"
   ]
  },
  {
   "cell_type": "markdown",
   "id": "75ad3c47-d595-441c-8928-b29bba20adc6",
   "metadata": {},
   "source": [
    "**Track outliers in the dataset and remove them. Explain how your found them and what metrics you used.**"
   ]
  },
  {
   "cell_type": "code",
   "execution_count": 8,
   "id": "b6642032-ffb4-4c1f-a905-9c0cbe4224e5",
   "metadata": {},
   "outputs": [],
   "source": [
    "## Write your code here"
   ]
  },
  {
   "cell_type": "markdown",
   "id": "d354d0a4-9ac0-4700-bd20-bf326501b22f",
   "metadata": {},
   "source": [
    "**For the features for which it is relevant, perform data augmentation with the basis of your choice to allow the problem to be linearly separable.**"
   ]
  },
  {
   "cell_type": "code",
   "execution_count": 9,
   "id": "d2021f4e-441d-453d-bd1e-cad64ae96ad2",
   "metadata": {},
   "outputs": [],
   "source": [
    "## Write your code here"
   ]
  },
  {
   "cell_type": "markdown",
   "id": "3a7c36c9-baca-4642-b8fe-2ffc1ea3c642",
   "metadata": {},
   "source": [
    "**Finish the preprocessing of the data with rescaling where needed.**"
   ]
  },
  {
   "cell_type": "code",
   "execution_count": 10,
   "id": "a3464083-7395-4fef-843d-81900be2a45a",
   "metadata": {},
   "outputs": [],
   "source": [
    "## Write your code here"
   ]
  },
  {
   "cell_type": "markdown",
   "id": "17830d6a-ccf5-4ccc-af00-f1515517265c",
   "metadata": {},
   "source": [
    "### Linear SVM\n",
    "\n",
    "The support vector machine used to be the SOTA method for many tasks before neural networks became more popular among data scientists.\n",
    "Is has a lot of advantages as compared to other methods, as it is a kernel method (so it can be fast!) of which the results are still relatively easy to interpret.\n",
    "\n",
    "**Implement a Linear SVM classifier with `sklearn`, justifying your choices of hyper-parameters.**"
   ]
  },
  {
   "cell_type": "code",
   "execution_count": 11,
   "id": "89cdffab-76a2-4052-8ba8-948440cd27de",
   "metadata": {},
   "outputs": [],
   "source": [
    "## Write your code here"
   ]
  }
 ],
 "metadata": {
  "kernelspec": {
   "display_name": "Python 3 (ipykernel)",
   "language": "python",
   "name": "python3"
  },
  "language_info": {
   "codemirror_mode": {
    "name": "ipython",
    "version": 3
   },
   "file_extension": ".py",
   "mimetype": "text/x-python",
   "name": "python",
   "nbconvert_exporter": "python",
   "pygments_lexer": "ipython3",
   "version": "3.12.4"
  }
 },
 "nbformat": 4,
 "nbformat_minor": 5
}
