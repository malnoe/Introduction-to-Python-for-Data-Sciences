{
 "cells": [
  {
   "cell_type": "markdown",
   "id": "d6513e49-b1cc-4604-b563-cf8b1809fc6a",
   "metadata": {},
   "source": [
    "<table>\n",
    "<tr>\n",
    "<td width=15%><img src=\"../../img/UGA.png\"></img></td>\n",
    "<td><center><h1>Project n°4</h1></center></td>\n",
    "<td width=15%><a href=\"https://team.inria.fr/tripop/team-members/\" style=\"font-size: 16px; font-weight: bold\">Florian Vincent</a> </td>\n",
    "</tr>\n",
    "</table>"
   ]
  },
  {
   "cell_type": "code",
   "execution_count": 1,
   "id": "20647865-8316-4ee0-a021-ed961be14b4c",
   "metadata": {},
   "outputs": [],
   "source": [
    "import numpy as np\n",
    "import pandas as pd\n",
    "import matplotlib.pyplot as plt\n",
    "import seaborn as sns"
   ]
  },
  {
   "cell_type": "code",
   "execution_count": 2,
   "id": "6901f496-9a78-4b60-a931-303320d3c229",
   "metadata": {},
   "outputs": [],
   "source": [
    "%load_ext autoreload\n",
    "%autoreload 2"
   ]
  },
  {
   "cell_type": "markdown",
   "id": "aca73c79-e5cb-49cf-bafa-6e2496d4e1e5",
   "metadata": {},
   "source": [
    "# Learning text classification\n",
    "\n",
    "This project is based entirely on the dataset MNIST from Yann Lecun.\n",
    "To avoid copy-pastings of foreign code, it will guide you towards specific tools to test and use.\n",
    "\n",
    "## Overview of the project\n",
    "\n",
    "Take a look at the data in the dataset from sklearn."
   ]
  },
  {
   "cell_type": "code",
   "execution_count": 3,
   "id": "920cad71-ea7b-4544-99ef-7e98331204f8",
   "metadata": {},
   "outputs": [],
   "source": [
    "from sklearn import datasets\n",
    "digits, labels = datasets.load_digits(return_X_y=True)"
   ]
  },
  {
   "cell_type": "markdown",
   "id": "160d63c9-9390-4fb0-9ff8-f1b332ece4f0",
   "metadata": {},
   "source": [
    "## Study the data\n",
    "\n",
    "Before diving in the models you will study, you must first take a good look at your data.\n",
    "\n",
    "**Plot some of the digits from the dataset with pixel heatmaps on a grid. Pick your colorscheme wisely.**"
   ]
  },
  {
   "cell_type": "code",
   "execution_count": 4,
   "id": "281289d0-29d7-41a9-999e-9b168e200de6",
   "metadata": {},
   "outputs": [],
   "source": [
    "## Write your code here"
   ]
  },
  {
   "cell_type": "markdown",
   "id": "0aa7031a-2447-4d0e-995e-29de307b9fb8",
   "metadata": {},
   "source": [
    "**Study ways in which you can preprocess the data.**"
   ]
  },
  {
   "cell_type": "code",
   "execution_count": 5,
   "id": "54080c85-6342-4465-805f-c6baf8e22232",
   "metadata": {},
   "outputs": [],
   "source": [
    "## Write your code here"
   ]
  },
  {
   "cell_type": "markdown",
   "id": "fb3e9bc7-c068-461c-b6d8-1bf2cf121ac6",
   "metadata": {},
   "source": [
    "One may wish to take a deeper look in the database by using various techniques.\n",
    "\n",
    "**Find a suitable dimension reduction technique to study the structure of the data. Display your findings with visual means (you can use `seaborn`).**"
   ]
  },
  {
   "cell_type": "code",
   "execution_count": 6,
   "id": "bb697da5-2027-47ec-a290-c10f25432edb",
   "metadata": {},
   "outputs": [],
   "source": [
    "## Write your code here"
   ]
  },
  {
   "cell_type": "markdown",
   "id": "81c175ff-cbdf-43b5-8478-475c3dd9901f",
   "metadata": {},
   "source": [
    "## Make classification\n",
    "\n",
    "We will study during this project a small amount of models.\n",
    "\n",
    "### Logistic regression\n",
    "\n",
    "The logistic regression is the most simple and naïve model one can use for classification specifically, but it can provide good insights on the baseline one may wish to achieve with more complex models.\n",
    "\n",
    "**Implement a logistic classifier. Justify every parameter that you choose and how you chose it.**"
   ]
  },
  {
   "cell_type": "code",
   "execution_count": 7,
   "id": "d2021f4e-441d-453d-bd1e-cad64ae96ad2",
   "metadata": {},
   "outputs": [],
   "source": [
    "## Write your code here"
   ]
  },
  {
   "cell_type": "markdown",
   "id": "17830d6a-ccf5-4ccc-af00-f1515517265c",
   "metadata": {},
   "source": [
    "### SVM\n",
    "\n",
    "The support vector machine used to be the SOTA method for many tasks before neural networks became more popular among data scientists.\n",
    "Is has a lot of advantages as compared to logistic regression, as it is a kernel method of which the results are still relatively easy to interpret.\n",
    "\n",
    "**Implement a SVM classifier, justifying your choices of hyper-parameters.**"
   ]
  },
  {
   "cell_type": "code",
   "execution_count": 8,
   "id": "89cdffab-76a2-4052-8ba8-948440cd27de",
   "metadata": {},
   "outputs": [],
   "source": [
    "## Write your code here"
   ]
  },
  {
   "cell_type": "markdown",
   "id": "0c8d401a-788d-410a-8d87-ec269b30fb1e",
   "metadata": {},
   "source": [
    "## Neural Network\n",
    "\n",
    "The state of the art for pattern recogonition tasks today, **on large and complex datasets**, are Neural Networks.\n",
    "\n",
    "**For this dataset, fit a *multilayer perceptron* (MLP) neural network from the sklearn library.**"
   ]
  },
  {
   "cell_type": "code",
   "execution_count": 9,
   "id": "54b23e0a-647e-4673-8e83-65b9cd21260a",
   "metadata": {},
   "outputs": [],
   "source": [
    "## Write your code here"
   ]
  },
  {
   "cell_type": "markdown",
   "id": "e0669a6e-aa9f-4e01-b3f4-20f11c897b65",
   "metadata": {},
   "source": [
    "## Going further\n",
    "\n",
    "**Take a look at the *Restricted Boltzmann Machines* (RBM) in the unsupervised setting, and try to use a *Bernoulli RBM* as a feature extractor for your SVM model.**"
   ]
  },
  {
   "cell_type": "code",
   "execution_count": 10,
   "id": "6330d721-c113-4f11-a6d4-6a0efe529461",
   "metadata": {},
   "outputs": [],
   "source": [
    "## Write your code here"
   ]
  },
  {
   "cell_type": "markdown",
   "id": "5433f83c-9c90-413f-9832-ad2a7f12e322",
   "metadata": {},
   "source": [
    "## Compare models\n",
    "\n",
    "One must then compare the models on the test set and provide metrics to study it.\n",
    "\n",
    "**Compare previously studied models, with and without the RBM, for their best hyperparameters. (It is normal if the RBM yields unconsistant results, juste report it with relevant comments.)**"
   ]
  },
  {
   "cell_type": "code",
   "execution_count": 11,
   "id": "2c46f7be-3ce9-4671-8a65-e14fb9990dd9",
   "metadata": {},
   "outputs": [],
   "source": [
    "## Write your code here"
   ]
  }
 ],
 "metadata": {
  "kernelspec": {
   "display_name": "Python 3 (ipykernel)",
   "language": "python",
   "name": "python3"
  },
  "language_info": {
   "codemirror_mode": {
    "name": "ipython",
    "version": 3
   },
   "file_extension": ".py",
   "mimetype": "text/x-python",
   "name": "python",
   "nbconvert_exporter": "python",
   "pygments_lexer": "ipython3",
   "version": "3.12.4"
  }
 },
 "nbformat": 4,
 "nbformat_minor": 5
}
